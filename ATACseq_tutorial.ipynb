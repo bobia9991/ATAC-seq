{
 "cells": [
  {
   "cell_type": "markdown",
   "metadata": {},
   "source": [
    "# ATACseq tutorial"
   ]
  },
  {
   "cell_type": "markdown",
   "metadata": {},
   "source": [
    "# Trimming"
   ]
  },
  {
   "cell_type": "markdown",
   "metadata": {},
   "source": [
    "The fastq file are trimmed using Trimmomatic v0.33 to remove any adapter sequences in the reads caused by read through associated with DNA fragments shorter in size than the read length being sequenced.\n",
    "Trimmomatic software were downloaded and installed from http://www.usadellab.org/cms/index.php?page=trimmomatic"
   ]
  },
  {
   "cell_type": "code",
   "execution_count": null,
   "metadata": {},
   "outputs": [],
   "source": [
    "java-jar path/Trimmomatic-0.33/trimmomatic-0.33.jar PE -threads 12 reads_path/A_1.fastq.gz reads_path/A_2.fastq.gz trimmed_files/A_1_tr.fastq trimmed_files/A_1_tr_unpaired.fastq trimmed_files/A_2_tr.fastq\ttrimmed_files/A_2_tr_unpaired.fastq ILLUMINACLIP:NexteraPE-PE.fa:2:30:10:1:true TRAILING:3 SLIDINGWINDOW:4:15"
   ]
  },
  {
   "cell_type": "markdown",
   "metadata": {},
   "source": [
    "# Quality control and compression of the unpaired reads"
   ]
  },
  {
   "cell_type": "code",
   "execution_count": null,
   "metadata": {},
   "outputs": [],
   "source": [
    "FastQC/fastqc –o output_directory path_to_data/input_file_name"
   ]
  },
  {
   "cell_type": "code",
   "execution_count": null,
   "metadata": {},
   "outputs": [],
   "source": [
    "gzip A_1_tr_unpaired.fastq A_2_tr_unpaired.fastq"
   ]
  },
  {
   "cell_type": "markdown",
   "metadata": {},
   "source": [
    "# Alignment"
   ]
  },
  {
   "cell_type": "markdown",
   "metadata": {},
   "source": [
    "In\torder to align reads to\teach cellular compartment it is\tnecessary to build an index\tfor\teach compartment, and then only the reads from the compartment of interest are saved."
   ]
  },
  {
   "cell_type": "markdown",
   "metadata": {},
   "source": [
    "*Build command* within Bowtie 2 is ran to create an index for the mitochondria and for the nucleus"
   ]
  },
  {
   "cell_type": "code",
   "execution_count": null,
   "metadata": {},
   "outputs": [],
   "source": [
    "path_to_bowtie2/bowtie2-build –f chrM.fa species_vn_chrM\n",
    "path_to_bowtie2/bowtie2-build –f chr1.fa, chr2.fa, …, chrLast.fa mouse_vn_chrN"
   ]
  },
  {
   "cell_type": "markdown",
   "metadata": {},
   "source": [
    "Mitochondrial DNA is removed"
   ]
  },
  {
   "cell_type": "code",
   "execution_count": null,
   "metadata": {},
   "outputs": [],
   "source": [
    "path_to_bowtie2/bowtie2 -p 12 -X 2000 --very-sensitive -x mouse_vn_chrM -1 trimmed_files /A_1_tr.fastq.gz -2 trimmed_files /A_2_tr.fastq.gz -S temp_files/A_tempM.sam --un-conc temp_files/A_noM_fastq"
   ]
  },
  {
   "cell_type": "markdown",
   "metadata": {},
   "source": [
    "The temporary file containing the aligned Mitochondrial read is deleted and the resulting Fastq file is compressed"
   ]
  },
  {
   "cell_type": "code",
   "execution_count": null,
   "metadata": {},
   "outputs": [],
   "source": [
    "rm temp_files/A_tempM.sam\n",
    "gzip temp_files/A_noM_fastq.1 temp_files/A_noM_fastq.2"
   ]
  },
  {
   "cell_type": "markdown",
   "metadata": {},
   "source": [
    "The cleaned\tfastq files is used as the input to map the remaining reads to the nuclear mouse genome"
   ]
  },
  {
   "cell_type": "markdown",
   "metadata": {},
   "source": [
    "The Bowtie2 log for the alignment is saved to track the number of reads that aligns to each cellular compartment and then the temporary Fastq file is deleted, the sam file generated is converted into a bam file and the SAM file\tis deleted if it is no longer required."
   ]
  },
  {
   "cell_type": "code",
   "execution_count": null,
   "metadata": {},
   "outputs": [],
   "source": [
    "path_to_bowtie2/bowtie2 -p 12 -X 2000 --very-sensitive -x mouses_vn_chrN -1 temp_files/A_Nuclear_fastq.1.gz -2 temp_files/A_Nuclear_fastq.2.gz -S aligned/ A_Nuclear sam\n",
    "rm temp_files/A_Nuclear_fastq.*.gz\n",
    "samtools-1.2/samtools view -b -S path_to_file/A_alignedX.sam -o 10 path_to_file/A_alignedX_unsorted.bam\n",
    "rm path_to_file/A_alignedX.sam"
   ]
  },
  {
   "cell_type": "markdown",
   "metadata": {},
   "source": [
    "The aligned reads BAM file is sorted and indexed, the **unsorted** BAM file is deleted if it is no longer required."
   ]
  },
  {
   "cell_type": "code",
   "execution_count": null,
   "metadata": {},
   "outputs": [],
   "source": [
    "samtools-1.2/samtools sort path_to_file/A_alignedX_unsorted.bam path_to_file/ A_alignedX.bam\n",
    "rm path_to_file/A_alignedX_unsorted.bam\n",
    "samtools-1.2/samtools index path_to_file/A_alignedX.bam"
   ]
  },
  {
   "cell_type": "markdown",
   "metadata": {},
   "source": [
    "Calculation of BAM flag distribution by using Samtools (*Use\tTable 2 of Kate's paper as a template to translate the BAM flag codes into a format that is easier to interpret*) and visualise"
   ]
  },
  {
   "cell_type": "code",
   "execution_count": null,
   "metadata": {},
   "outputs": [],
   "source": [
    "path_to_samtools/samtools-1.2/samtools view path_to_file/A_alignedX.bam | awk '{print $2}' | sort -n | uniq -c | sed 's/^ *//g' > path_to_output/A_alignedX_bamflags.txt"
   ]
  },
  {
   "cell_type": "markdown",
   "metadata": {},
   "source": [
    "# Quality control"
   ]
  },
  {
   "cell_type": "markdown",
   "metadata": {},
   "source": [
    "Creation of the MAPQ Score distribution by using Samtools"
   ]
  },
  {
   "cell_type": "code",
   "execution_count": null,
   "metadata": {},
   "outputs": [],
   "source": [
    "path_to_samtools/samtools-1.2/samtools view -f2 path_to_file/aligned_reads.bam | awk '{print  $5}' | sort -n | uniq -c | sed 's/^ *//g' > path_to_output/A_alignedX_mapq.txt"
   ]
  },
  {
   "cell_type": "markdown",
   "metadata": {},
   "source": [
    "Calculation of the insert size distribution for high quality, properly mapped reads for visualisaion"
   ]
  },
  {
   "cell_type": "code",
   "execution_count": null,
   "metadata": {},
   "outputs": [],
   "source": [
    "samtools-1.2/samtools view -f2 –q22 path_to_file/A_alignedX_.bam | cut -f 9|sed 's/^-//' | sort -n | uniq -c > path_to_output/A_alignedX__is_summary.txt"
   ]
  },
  {
   "cell_type": "markdown",
   "metadata": {},
   "source": [
    "Creation of a BAM file that contains the high quality, properly mapped reads only"
   ]
  },
  {
   "cell_type": "code",
   "execution_count": null,
   "metadata": {},
   "outputs": [],
   "source": [
    "samtools-1.2/samtools view -f2 –q22 path_to_file/aligned_reads.bam > path_to_output/A_alignedX_filter.bam"
   ]
  },
  {
   "cell_type": "markdown",
   "metadata": {},
   "source": [
    "New FastQC in order to verify the improvement"
   ]
  },
  {
   "cell_type": "code",
   "execution_count": null,
   "metadata": {},
   "outputs": [],
   "source": [
    "FastQC/fastqc –o output_directory path_to_data/input_file_name"
   ]
  },
  {
   "cell_type": "markdown",
   "metadata": {},
   "source": [
    "# Merging files"
   ]
  },
  {
   "cell_type": "markdown",
   "metadata": {},
   "source": [
    "Files were merged\n",
    "\n",
    "Control sample files (1A,2B,4B) are merged and named : \n",
    "mergeCtrl_Trim.bam\n",
    "\n",
    "IL1 treated sample files (7A,9A,8B) are merged and named : \n",
    "mergeIL1_Trim.bam"
   ]
  },
  {
   "cell_type": "code",
   "execution_count": null,
   "metadata": {},
   "outputs": [],
   "source": [
    "samtools merge mergeCtrl_Trim.bam eg1ATrim_sorted_deduplicated.bam eg2BTrim_sorted_deduplicated.bam eg4BTrim_sorted_deduplicated.bam\n",
    "samtools merge mergeIL1_Trim.bam eg7ATrim_sorted_deduplicated.bam eg8BTrim_sorted_deduplicated.bam eg9ATrim_sorted_deduplicated.bam"
   ]
  },
  {
   "cell_type": "markdown",
   "metadata": {},
   "source": [
    "## Peak calling with MACS2 for the 2 series"
   ]
  },
  {
   "cell_type": "code",
   "execution_count": null,
   "metadata": {},
   "outputs": [],
   "source": [
    "macs2 callpeak -t mergeCtrl_Trim.bam -f BAM -g 1.87e9 -q 0.05 -n mergeCtrl_Trim.bed\n",
    "macs2 callpeak -t mergeIL1_Trim.bam -f BAM -g 1.87e9 -q 0.05 -n mergeIL1_Trim.bed"
   ]
  },
  {
   "cell_type": "raw",
   "metadata": {},
   "source": [
    "the 2 bedfiles are combined in a text file (named Ctrl_IL1_Trim_peaks.txt) the output file is named Ctrl_IL1_Trim_peaks.bed"
   ]
  },
  {
   "cell_type": "code",
   "execution_count": null,
   "metadata": {},
   "outputs": [],
   "source": [
    "bedtools merge -i Ctrl_IL1_Trim_peaks.txt > Ctrl_IL1_Trim_peaks.bed"
   ]
  },
  {
   "cell_type": "markdown",
   "metadata": {},
   "source": [
    "## blacklisted peaks are removed using bedtools subtractbed\n",
    "BLACKLIST=\"http://mitra.stanford.edu/kundaje/akundaje/release/blacklists/mm10-mouse/mm10.blacklist.bed.gz\"\n",
    "the output file is named Ctrl_IL1_Trim_BL.bed"
   ]
  },
  {
   "cell_type": "code",
   "execution_count": null,
   "metadata": {},
   "outputs": [],
   "source": [
    "subtractBed -A -a Ctrl_IL1_Trim_peaks.bed -b blacklist"
   ]
  },
  {
   "cell_type": "raw",
   "metadata": {},
   "source": [
    "in order to determine the number of reads in each sample per peak we used Bedtools coverage"
   ]
  },
  {
   "cell_type": "code",
   "execution_count": null,
   "metadata": {},
   "outputs": [],
   "source": [
    "bedtools coverage -a Ctrl_IL1_Trim_BL.bed -b eg1ATrim_sorted_deduplicated.bam -counts > cov_1A.bed\n",
    "bedtools coverage -a Ctrl_IL1_Trim_BL.bed -b eg2BTrim_sorted_deduplicated.bam -counts > cov_2B.bed\n",
    "bedtools coverage -a Ctrl_IL1_Trim_BL.bed -b eg4BTrim_sorted_deduplicated.bam -counts > cov_4B.bed\n",
    "bedtools coverage -a Ctrl_IL1_Trim_BL.bed -b eg7ATrim_sorted_deduplicated.bam -counts > cov_7A.bed\n",
    "bedtools coverage -a Ctrl_IL1_Trim_BL.bed -b eg8BTrim_sorted_deduplicated.bam -counts > cov_8B.bed\n",
    "bedtools coverage -a Ctrl_IL1_Trim_BL.bed -b eg9ATrim_sorted_deduplicated.bam -counts > cov_9A.bed"
   ]
  },
  {
   "cell_type": "raw",
   "metadata": {},
   "source": [
    "## number of reads are normalized to the library size and combined in a text file named Count-peaks-all-norm.txt"
   ]
  },
  {
   "cell_type": "markdown",
   "metadata": {},
   "source": [
    "# the analysis is done using edgeR package"
   ]
  },
  {
   "cell_type": "code",
   "execution_count": null,
   "metadata": {},
   "outputs": [],
   "source": [
    "library(edgeR)\n",
    "x<-read.delim(\"E:/Count-peaks-all-norm.txt\")\n",
    "group <- factor(c(1,1,1,2,2,2))\n",
    "y <- DGEList(counts=x[,2:7],group=group)\n",
    "y <- calcNormFactors(y)\n",
    "y$samples\n",
    "y <- estimateCommonDisp(y)\n",
    "sqrt(y$common.disp)\n",
    "plotBCV(y)\n",
    "plotMDS(y, method=\"bcv\")\n",
    "y <- estimateTagwiseDisp(y)\n",
    "et <- exactTest(y)\n",
    "topTags(et)\n",
    "Z=summary(de <- decideTestsDGE(et, p=0.05, adjust=\"BH\"))\n",
    "detags <- rownames(y)[as.logical(de)]\n",
    "plotSmear(et, ylim=c(-6,6), de.tags=detags)\n",
    "abline(h = c(-2, 2), col = \"blue\")\n",
    "et.df = as.data.frame(do.call(rbind, et))\n",
    "write.table(et.df,\"results\",quote=FALSE,row.names=TRUE,sep=\"\\t\")"
   ]
  }
 ],
 "metadata": {
  "kernelspec": {
   "display_name": "Bash",
   "language": "bash",
   "name": "bash"
  },
  "language_info": {
   "codemirror_mode": "shell",
   "file_extension": ".sh",
   "mimetype": "text/x-sh",
   "name": "bash"
  }
 },
 "nbformat": 4,
 "nbformat_minor": 4
}
